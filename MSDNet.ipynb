{
 "cells": [
  {
   "cell_type": "code",
   "execution_count": 1,
   "id": "7d5ade50",
   "metadata": {},
   "outputs": [],
   "source": [
    "import numpy as np\n",
    "import pandas as pd\n",
    "import torch\n",
    "import matplotlib.pyplot as plt\n",
    "import seaborn as sns\n",
    "import models\n",
    "import argparse\n",
    "from argparse import Namespace\n",
    "from dataloader import get_dataloaders\n",
    "import time\n",
    "import torch.nn as nn\n",
    "import os\n",
    "import math\n",
    "\n",
    "\n",
    "data_path='save/scores.tsv'\n",
    "flops_path='save/flops.pth'"
   ]
  },
  {
   "cell_type": "code",
   "execution_count": 2,
   "id": "c29f779c",
   "metadata": {},
   "outputs": [
    {
     "data": {
      "text/html": [
       "<div>\n",
       "<style scoped>\n",
       "    .dataframe tbody tr th:only-of-type {\n",
       "        vertical-align: middle;\n",
       "    }\n",
       "\n",
       "    .dataframe tbody tr th {\n",
       "        vertical-align: top;\n",
       "    }\n",
       "\n",
       "    .dataframe thead th {\n",
       "        text-align: right;\n",
       "    }\n",
       "</style>\n",
       "<table border=\"1\" class=\"dataframe\">\n",
       "  <thead>\n",
       "    <tr style=\"text-align: right;\">\n",
       "      <th></th>\n",
       "      <th>epoch</th>\n",
       "      <th>lr</th>\n",
       "      <th>train_loss</th>\n",
       "      <th>val_loss</th>\n",
       "      <th>train_prec1</th>\n",
       "      <th>val_prec1</th>\n",
       "      <th>train_prec5</th>\n",
       "      <th>val_prec5</th>\n",
       "    </tr>\n",
       "  </thead>\n",
       "  <tbody>\n",
       "    <tr>\n",
       "      <th>290</th>\n",
       "      <td>290</td>\n",
       "      <td>0.001</td>\n",
       "      <td>1.4470</td>\n",
       "      <td>9.9636</td>\n",
       "      <td>98.902</td>\n",
       "      <td>72.79</td>\n",
       "      <td>99.992</td>\n",
       "      <td>92.31</td>\n",
       "    </tr>\n",
       "    <tr>\n",
       "      <th>291</th>\n",
       "      <td>291</td>\n",
       "      <td>0.001</td>\n",
       "      <td>1.4289</td>\n",
       "      <td>10.1432</td>\n",
       "      <td>98.896</td>\n",
       "      <td>72.82</td>\n",
       "      <td>99.992</td>\n",
       "      <td>92.34</td>\n",
       "    </tr>\n",
       "    <tr>\n",
       "      <th>292</th>\n",
       "      <td>292</td>\n",
       "      <td>0.001</td>\n",
       "      <td>1.4264</td>\n",
       "      <td>10.0177</td>\n",
       "      <td>98.852</td>\n",
       "      <td>72.96</td>\n",
       "      <td>100.000</td>\n",
       "      <td>92.30</td>\n",
       "    </tr>\n",
       "    <tr>\n",
       "      <th>293</th>\n",
       "      <td>293</td>\n",
       "      <td>0.001</td>\n",
       "      <td>1.4378</td>\n",
       "      <td>10.0248</td>\n",
       "      <td>98.922</td>\n",
       "      <td>72.75</td>\n",
       "      <td>99.992</td>\n",
       "      <td>92.12</td>\n",
       "    </tr>\n",
       "    <tr>\n",
       "      <th>294</th>\n",
       "      <td>294</td>\n",
       "      <td>0.001</td>\n",
       "      <td>1.4402</td>\n",
       "      <td>10.0106</td>\n",
       "      <td>98.970</td>\n",
       "      <td>72.92</td>\n",
       "      <td>99.996</td>\n",
       "      <td>92.30</td>\n",
       "    </tr>\n",
       "    <tr>\n",
       "      <th>295</th>\n",
       "      <td>295</td>\n",
       "      <td>0.001</td>\n",
       "      <td>1.4450</td>\n",
       "      <td>10.0940</td>\n",
       "      <td>98.990</td>\n",
       "      <td>73.08</td>\n",
       "      <td>99.988</td>\n",
       "      <td>92.13</td>\n",
       "    </tr>\n",
       "    <tr>\n",
       "      <th>296</th>\n",
       "      <td>296</td>\n",
       "      <td>0.001</td>\n",
       "      <td>1.4372</td>\n",
       "      <td>10.0416</td>\n",
       "      <td>98.946</td>\n",
       "      <td>73.12</td>\n",
       "      <td>99.996</td>\n",
       "      <td>92.19</td>\n",
       "    </tr>\n",
       "    <tr>\n",
       "      <th>297</th>\n",
       "      <td>297</td>\n",
       "      <td>0.001</td>\n",
       "      <td>1.4162</td>\n",
       "      <td>10.0460</td>\n",
       "      <td>98.974</td>\n",
       "      <td>73.02</td>\n",
       "      <td>99.996</td>\n",
       "      <td>92.28</td>\n",
       "    </tr>\n",
       "    <tr>\n",
       "      <th>298</th>\n",
       "      <td>298</td>\n",
       "      <td>0.001</td>\n",
       "      <td>1.4206</td>\n",
       "      <td>10.1073</td>\n",
       "      <td>98.992</td>\n",
       "      <td>72.56</td>\n",
       "      <td>99.996</td>\n",
       "      <td>92.29</td>\n",
       "    </tr>\n",
       "    <tr>\n",
       "      <th>299</th>\n",
       "      <td>299</td>\n",
       "      <td>0.001</td>\n",
       "      <td>1.4289</td>\n",
       "      <td>10.0976</td>\n",
       "      <td>98.924</td>\n",
       "      <td>73.03</td>\n",
       "      <td>99.992</td>\n",
       "      <td>92.17</td>\n",
       "    </tr>\n",
       "  </tbody>\n",
       "</table>\n",
       "</div>"
      ],
      "text/plain": [
       "     epoch     lr  train_loss  val_loss  train_prec1  val_prec1  train_prec5  \\\n",
       "290    290  0.001      1.4470    9.9636       98.902      72.79       99.992   \n",
       "291    291  0.001      1.4289   10.1432       98.896      72.82       99.992   \n",
       "292    292  0.001      1.4264   10.0177       98.852      72.96      100.000   \n",
       "293    293  0.001      1.4378   10.0248       98.922      72.75       99.992   \n",
       "294    294  0.001      1.4402   10.0106       98.970      72.92       99.996   \n",
       "295    295  0.001      1.4450   10.0940       98.990      73.08       99.988   \n",
       "296    296  0.001      1.4372   10.0416       98.946      73.12       99.996   \n",
       "297    297  0.001      1.4162   10.0460       98.974      73.02       99.996   \n",
       "298    298  0.001      1.4206   10.1073       98.992      72.56       99.996   \n",
       "299    299  0.001      1.4289   10.0976       98.924      73.03       99.992   \n",
       "\n",
       "     val_prec5  \n",
       "290      92.31  \n",
       "291      92.34  \n",
       "292      92.30  \n",
       "293      92.12  \n",
       "294      92.30  \n",
       "295      92.13  \n",
       "296      92.19  \n",
       "297      92.28  \n",
       "298      92.29  \n",
       "299      92.17  "
      ]
     },
     "execution_count": 2,
     "metadata": {},
     "output_type": "execute_result"
    }
   ],
   "source": [
    "df = pd.read_csv(data_path, sep='\\t')\n",
    "df.tail(10)"
   ]
  },
  {
   "cell_type": "code",
   "execution_count": 3,
   "id": "e3869182",
   "metadata": {},
   "outputs": [
    {
     "data": {
      "text/plain": [
       "[]"
      ]
     },
     "execution_count": 3,
     "metadata": {},
     "output_type": "execute_result"
    },
    {
     "data": {
      "image/png": "[encoded data removed]",
      "text/plain": [
       "<Figure size 1152x432 with 1 Axes>"
      ]
     },
     "metadata": {
      "needs_background": "light"
     },
     "output_type": "display_data"
    }
   ],
   "source": [
    "plt.figure(figsize=(16,6))\n",
    "sns.lineplot(df.epoch,df.train_loss, label=\"train_loss\")\n",
    "sns.lineplot(df.epoch,df.val_loss, label=\"val_loss\")\n",
    "plt.plot()"
   ]
  },
  {
   "cell_type": "code",
   "execution_count": 4,
   "id": "b3cd0c11",
   "metadata": {},
   "outputs": [
    {
     "data": {
      "text/plain": [
       "[]"
      ]
     },
     "execution_count": 4,
     "metadata": {},
     "output_type": "execute_result"
    },
    {
     "data": {
      "image/png": "[encoded data removed]",
      "text/plain": [
       "<Figure size 1152x432 with 1 Axes>"
      ]
     },
     "metadata": {
      "needs_background": "light"
     },
     "output_type": "display_data"
    }
   ],
   "source": [
    "plt.figure(figsize=(16,6))\n",
    "sns.lineplot(df.epoch,df.train_prec1, label=\"train_prec1\")\n",
    "sns.lineplot(df.epoch,df.val_prec1, label=\"val_prec1\")\n",
    "plt.plot()"
   ]
  },
  {
   "cell_type": "code",
   "execution_count": 5,
   "id": "e277e6f6",
   "metadata": {},
   "outputs": [
    {
     "name": "stdout",
     "output_type": "stream",
     "text": [
      "[15140452.0, 25505992.0, 37095980.0, 46331024.0, 57335540.0, 66960728.0, 75937724.0]\n"
     ]
    }
   ],
   "source": [
    "flops = torch.load(flops_path)\n",
    "print(flops)"
   ]
  },
  {
   "cell_type": "code",
   "execution_count": 6,
   "id": "b9a93425",
   "metadata": {},
   "outputs": [
    {
     "name": "stdout",
     "output_type": "stream",
     "text": [
      "building network of steps: \n",
      "[4, 2, 2, 2, 2, 2, 2] 16\n",
      " ********************** Block 1  **********************\n",
      "|\t\tinScales 3 outScales 3 inChannels 16 outChannels 6\t\t|\n",
      "\n",
      "|\t\tinScales 3 outScales 3 inChannels 22 outChannels 6\t\t|\n",
      "\n",
      "|\t\tinScales 3 outScales 3 inChannels 28 outChannels 6\t\t|\n",
      "\n",
      "|\t\tinScales 3 outScales 3 inChannels 34 outChannels 6\t\t|\n",
      "\n",
      " ********************** Block 2  **********************\n",
      "|\t\tinScales 3 outScales 3 inChannels 40 outChannels 6\t\t|\n",
      "\n",
      "|\t\tinScales 3 outScales 3 inChannels 46 outChannels 6\t\t|\n",
      "\n",
      " ********************** Block 3  **********************\n",
      "|\t\tinScales 3 outScales 2 inChannels 52 outChannels 6\t\t|\n",
      "|\t\tTransition layer inserted! (max), inChannels 58, outChannels 29\t|\n",
      "\n",
      "|\t\tinScales 2 outScales 2 inChannels 29 outChannels 6\t\t|\n",
      "\n",
      " ********************** Block 4  **********************\n",
      "|\t\tinScales 2 outScales 2 inChannels 35 outChannels 6\t\t|\n",
      "\n",
      "|\t\tinScales 2 outScales 2 inChannels 41 outChannels 6\t\t|\n",
      "\n",
      " ********************** Block 5  **********************\n",
      "|\t\tinScales 2 outScales 2 inChannels 47 outChannels 6\t\t|\n",
      "\n",
      "|\t\tinScales 2 outScales 2 inChannels 53 outChannels 6\t\t|\n",
      "\n",
      " ********************** Block 6  **********************\n",
      "|\t\tinScales 2 outScales 1 inChannels 59 outChannels 6\t\t|\n",
      "|\t\tTransition layer inserted! (max), inChannels 65, outChannels 32\t|\n",
      "\n",
      "|\t\tinScales 1 outScales 1 inChannels 32 outChannels 6\t\t|\n",
      "\n",
      " ********************** Block 7  **********************\n",
      "|\t\tinScales 1 outScales 1 inChannels 38 outChannels 6\t\t|\n",
      "\n",
      "|\t\tinScales 1 outScales 1 inChannels 44 outChannels 6\t\t|\n",
      "\n",
      "!!!!!! Load train_set_index !!!!!!\n"
     ]
    }
   ],
   "source": [
    "args = Namespace(arch='msdnet', base=4, batch_size=64, bnFactor=[1, 2, 4], bottleneck=True, data='cifar100', data_root='/home/simon/GreenAI/MSDNet-PyTorch/', decay_rate=0.1, epochs=300, evalmode=None, evaluate_from=None, gpu=None, grFactor=[1, 2, 4], growthRate=6, lr=0.1, lr_type='multistep', momentum=0.9, nBlocks=7, nChannels=16, nScales=3, num_classes=100, optimizer='sgd', print_freq=10, prune='max', reduction=0.5, resume=False, save='/home/simon/GreenAI/MSDNet-PyTorch/save/', seed=0, splits=['train', 'val','test'], start_epoch=0, step=2, stepmode='even', use_valid=True, weight_decay=0.0001, workers=16)\n",
    "\n",
    "model = getattr(models, args.arch)(args)\n",
    "model = torch.nn.DataParallel(model).cuda()\n",
    "\n",
    "train_loader, val_loader, test_loader = get_dataloaders(args)"
   ]
  },
  {
   "cell_type": "code",
   "execution_count": 7,
   "id": "7154edf5",
   "metadata": {},
   "outputs": [],
   "source": [
    "checkpoints = torch.load('save/save_models/checkpoint_299.pth.tar')"
   ]
  },
  {
   "cell_type": "code",
   "execution_count": 8,
   "id": "ffaade52",
   "metadata": {},
   "outputs": [],
   "source": [
    "model.load_state_dict(checkpoints['state_dict'])"
   ]
  },
  {
   "cell_type": "code",
   "execution_count": 9,
   "id": "9e93d35c",
   "metadata": {},
   "outputs": [],
   "source": [
    "criterion = torch.nn.CrossEntropyLoss().cuda()"
   ]
  },
  {
   "cell_type": "code",
   "execution_count": 10,
   "id": "d76a2b93",
   "metadata": {},
   "outputs": [
    {
     "data": {
      "text/plain": [
       "Dataset CIFAR100\n",
       "    Number of datapoints: 10000\n",
       "    Split: test\n",
       "    Root Location: /home/simon/GreenAI/MSDNet-PyTorch/\n",
       "    Transforms (if any): Compose(\n",
       "                             ToTensor()\n",
       "                             Normalize(mean=[0.5071, 0.4867, 0.4408], std=[0.2675, 0.2565, 0.2761])\n",
       "                         )\n",
       "    Target Transforms (if any): None"
      ]
     },
     "execution_count": 10,
     "metadata": {},
     "output_type": "execute_result"
    }
   ],
   "source": [
    "test_loader.dataset"
   ]
  },
  {
   "cell_type": "code",
   "execution_count": 11,
   "id": "ed786932",
   "metadata": {},
   "outputs": [],
   "source": [
    "def validate(val_loader, model, criterion, T, flops):\n",
    "    batch_time = AverageMeter()\n",
    "    losses = AverageMeter()\n",
    "    data_time = AverageMeter()\n",
    "    top1 = AverageMeter()\n",
    "    top5 = AverageMeter()\n",
    "    times=[]\n",
    "    total_flops=np.zeros(len(flops))\n",
    "\n",
    "    model.eval()\n",
    "    \n",
    "    end = time.time()\n",
    "    with torch.no_grad():\n",
    "        for i, (input, target) in enumerate(val_loader):\n",
    "            batch_flops=[]\n",
    "            target = target\n",
    "            input = input.cuda()\n",
    "            input_var = torch.autograd.Variable(input)\n",
    "            target_var = torch.autograd.Variable(target)\n",
    "            \n",
    "            data_time.update(time.time() - end)\n",
    "            \n",
    "            output, batch_flops = model(input_var, T, flops)\n",
    "            total_flops+=batch_flops\n",
    "            loss = 0.0\n",
    "            \n",
    "            loss += criterion(output, target_var)\n",
    "\n",
    "            losses.update(loss.item(), input.size(0))\n",
    "\n",
    "            prec1, prec5 = accuracy(output.data, target, topk=(1, 5))\n",
    "            top1.update(prec1.item(), input.size(0))\n",
    "            top5.update(prec5.item(), input.size(0))\n",
    "            # measure elapsed time\n",
    "            batch_time.update(time.time() - end)\n",
    "            end = time.time()\n",
    "\n",
    "#             if i % 10 == 0:\n",
    "#                 print('Epoch: [{0}/{1}]\\t'\n",
    "#                       'Time {batch_time.avg:.3f}\\t'\n",
    "#                       'Data {data_time.avg:.3f}\\t'\n",
    "#                       'Loss {loss.val:.4f}\\t'\n",
    "#                       'Acc@1 {top1.val:.4f}\\t'\n",
    "#                       'Acc@5 {top5.val:.4f}'.format(\n",
    "#                         i + 1, len(val_loader),\n",
    "#                         batch_time=batch_time, data_time=data_time,\n",
    "#                         loss=losses, top1=top1, top5=top5))\n",
    "            times.append(data_time.sum+batch_time.sum)\n",
    "    print('prec@1 {top1.avg:.3f} prec@5 {top5.avg:.3f}'.format(top1=top1, top5=top5))\n",
    "    # print(' * prec@1 {top1.avg:.3f} prec@5 {top5.avg:.3f}'.format(top1=top1[-1], top5=top5[-1]))\n",
    "    \n",
    "    return top1, top5, times, total_flops\n",
    "\n",
    "class AverageMeter(object):\n",
    "    \"\"\"Computes and stores the average and current value\"\"\"\n",
    "\n",
    "    def __init__(self):\n",
    "        self.reset()\n",
    "\n",
    "    def reset(self):\n",
    "        self.val = 0\n",
    "        self.avg = 0\n",
    "        self.sum = 0\n",
    "        self.count = 0\n",
    "\n",
    "    def update(self, val, n=1):\n",
    "        self.val = val\n",
    "        self.sum += val * n\n",
    "        self.count += n\n",
    "        self.avg = self.sum / self.count\n",
    "\n",
    "def accuracy(output, target, topk=(1,)):\n",
    "    \"\"\"Computes the precor@k for the specified values of k\"\"\"\n",
    "    maxk = max(topk)\n",
    "    batch_size = target.size(0)\n",
    "\n",
    "    _, pred = output.topk(maxk, 1, True, True)\n",
    "    pred = pred.t()\n",
    "    correct = pred.eq(target.view(1, -1).expand_as(pred))\n",
    "    #print(pred,target.view(1, -1).expand_as(pred))\n",
    "    res = []\n",
    "    for k in topk:\n",
    "        correct_k = correct[:k].reshape(-1).float().sum(0)\n",
    "        res.append(correct_k.mul_(100.0 / batch_size))\n",
    "    return res\n"
   ]
  },
  {
   "cell_type": "markdown",
   "id": "baea53c7",
   "metadata": {},
   "source": [
    "## Différence en temps et nombre de flops pour inférence sur dataset de test"
   ]
  },
  {
   "cell_type": "code",
   "execution_count": 27,
   "id": "197a4b09",
   "metadata": {},
   "outputs": [
    {
     "name": "stdout",
     "output_type": "stream",
     "text": [
      "prec@1 72.580 prec@5 92.180\n",
      "7.223769664764404\n",
      "[0.0000000e+00 0.0000000e+00 0.0000000e+00 0.0000000e+00 0.0000000e+00\n",
      " 0.0000000e+00 7.5937724e+11]\n"
     ]
    }
   ],
   "source": [
    "T = torch.tensor([ 1.100e+00,  1.1000e+00,  1.1000e+00,  1.1e+00,  1.1e+00, 1.1e+00, -1.0000e+08])\n",
    "top1, top5, times, flops_count = validate(test_loader, model, criterion, T, flops)\n",
    "print(times[-1])\n",
    "print(flops_count)"
   ]
  },
  {
   "cell_type": "code",
   "execution_count": 28,
   "id": "e0a2154a",
   "metadata": {},
   "outputs": [
    {
     "name": "stdout",
     "output_type": "stream",
     "text": [
      "prec@1 70.770 prec@5 90.660\n",
      "5.967681884765625\n",
      "[8.87230487e+10 4.46864980e+10 3.74298438e+10 2.37678153e+10\n",
      " 1.83473728e+10 1.30573420e+10 2.66541411e+10]\n"
     ]
    }
   ],
   "source": [
    "TEE = torch.tensor([ 0.800e+00,  0.8000e+00,  0.8000e+00,  8.0e-01,  8.0e-01, 0.8e-00, -1.0000e+08])\n",
    "top1EE,top5EE,timesEE, flops_countEE =validate(test_loader,model, criterion, TEE, flops)\n",
    "print(timesEE[-1])\n",
    "print(flops_countEE)"
   ]
  },
  {
   "cell_type": "code",
   "execution_count": 29,
   "id": "82870c6b",
   "metadata": {},
   "outputs": [],
   "source": [
    "diff_time = times[-1]-timesEE[-1]\n",
    "diff_flops = flops_count-flops_countEE"
   ]
  },
  {
   "cell_type": "code",
   "execution_count": 30,
   "id": "5a848740",
   "metadata": {},
   "outputs": [
    {
     "name": "stdout",
     "output_type": "stream",
     "text": [
      "diff temp d'inférence total 1.256\n"
     ]
    }
   ],
   "source": [
    "print(\"diff temp d'inférence total {:.3f}\".format(diff_time))"
   ]
  },
  {
   "cell_type": "code",
   "execution_count": 31,
   "id": "35479702",
   "metadata": {},
   "outputs": [],
   "source": [
    "for i in range(len(flops_countEE)):\n",
    "    if i>0:\n",
    "        flops_countEE[i]+=flops_countEE[i-1]\n",
    "for i in range(len(flops_count)):\n",
    "    if i>0:\n",
    "        flops_count[i]+=flops_count[i-1]"
   ]
  },
  {
   "cell_type": "code",
   "execution_count": 35,
   "id": "d3b23291",
   "metadata": {},
   "outputs": [
    {
     "data": {
      "text/plain": [
       "[]"
      ]
     },
     "execution_count": 35,
     "metadata": {},
     "output_type": "execute_result"
    },
    {
     "data": {
      "image/png": "[encoded data removed]",
      "text/plain": [
       "<Figure size 1152x432 with 1 Axes>"
      ]
     },
     "metadata": {
      "needs_background": "light"
     },
     "output_type": "display_data"
    }
   ],
   "source": [
    "plt.figure(figsize=(16,6))\n",
    "plt.title('Cumulative FLOPS over 7 blocks for 10 000 CIFAR images')\n",
    "sns.lineplot(range(7),flops_count, label=\"\")\n",
    "sns.lineplot(range(7),flops_countEE, label=\"val_prec1\")\n",
    "plt.plot()"
   ]
  },
  {
   "cell_type": "code",
   "execution_count": null,
   "id": "9d32542e",
   "metadata": {},
   "outputs": [],
   "source": []
  }
 ],
 "metadata": {
  "kernelspec": {
   "display_name": "Python 3 (ipykernel)",
   "language": "python",
   "name": "python3"
  },
  "language_info": {
   "codemirror_mode": {
    "name": "ipython",
    "version": 3
   },
   "file_extension": ".py",
   "mimetype": "text/x-python",
   "name": "python",
   "nbconvert_exporter": "python",
   "pygments_lexer": "ipython3",
   "version": "3.7.0"
  }
 },
 "nbformat": 4,
 "nbformat_minor": 5
}
